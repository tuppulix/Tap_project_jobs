{
 "cells": [
  {
   "cell_type": "code",
   "execution_count": 2,
   "id": "a70868e9",
   "metadata": {},
   "outputs": [],
   "source": [
    "import pandas as pd \n",
    "import re\n",
    "\n",
    "def salary_median(string):\n",
    "    match = re.search(r'\\$(\\d+K)-\\$(\\d+K)', string)\n",
    "    if match:\n",
    "        lower_salary = int(match.group(1).replace('K', '')) * 1000\n",
    "        upper_salary = int(match.group(2).replace('K', '')) * 1000\n",
    "        median_salary = (lower_salary + upper_salary) / 2\n",
    "        return median_salary\n",
    "    else:\n",
    "        return None\n",
    "    \n",
    "def experience_median(string):\n",
    "    match = re.search(r'(\\d+)\\s+to\\s+(\\d+)\\s+Years', string)\n",
    "    if match:\n",
    "        lower_experience = int(match.group(1))\n",
    "        upper_experience = int(match.group(2))\n",
    "        median_experience = (lower_experience + upper_experience) / 2\n",
    "        return median_experience\n",
    "    else:\n",
    "        return None\n",
    "\n",
    "dataset = pd.read_csv(\"archive/job_descriptions.csv\")\n",
    "dataset[\"Salary Range\"] = dataset[\"Salary Range\"].apply(lambda x: salary_median(x))\n",
    "dataset[\"Experience\"] = dataset[\"Experience\"].apply(lambda x: experience_median(x))\n",
    "dataset = dataset.drop(columns=[\"Contact\",\"Contact Person\"])\n",
    "\n",
    "dataset.to_csv(\"archive/job_descriptions2.csv\", index=False)\n",
    "\n"
   ]
  },
  {
   "cell_type": "code",
   "execution_count": 3,
   "id": "40e04b2e",
   "metadata": {},
   "outputs": [
    {
     "name": "stdout",
     "output_type": "stream",
     "text": [
      "1315940\n",
      "300000\n"
     ]
    }
   ],
   "source": [
    "import pandas as pd \n",
    "import re\n",
    "\n",
    "dataset = pd.read_csv(\"archive/job_descriptions2.csv\")\n",
    "dataset3 = dataset.sample(300000)\n",
    "dataset = dataset.drop(dataset3.index)\n",
    "print(len(dataset))\n",
    "print(len(dataset3))\n",
    "dataset3.to_csv(\"archive/job_descriptions_subset.csv\", index=False)\n",
    "dataset.to_csv(\"archive/job_descriptions2.csv\", index=False)"
   ]
  },
  {
   "cell_type": "code",
   "execution_count": null,
   "id": "3e971245-462a-4ba1-a270-dd6f2b5dd002",
   "metadata": {},
   "outputs": [],
   "source": []
  }
 ],
 "metadata": {
  "kernelspec": {
   "display_name": "Python 3 (ipykernel)",
   "language": "python",
   "name": "python3"
  },
  "language_info": {
   "codemirror_mode": {
    "name": "ipython",
    "version": 3
   },
   "file_extension": ".py",
   "mimetype": "text/x-python",
   "name": "python",
   "nbconvert_exporter": "python",
   "pygments_lexer": "ipython3",
   "version": "3.12.3"
  }
 },
 "nbformat": 4,
 "nbformat_minor": 5
}
